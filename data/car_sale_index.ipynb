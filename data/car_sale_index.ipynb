{
 "cells": [
  {
   "cell_type": "code",
   "execution_count": 230,
   "metadata": {},
   "outputs": [],
   "source": [
    "import pandas as pd\n",
    "import numpy as np\n",
    "import matplotlib.pyplot as plt\n",
    "%matplotlib inline"
   ]
  },
  {
   "cell_type": "code",
   "execution_count": 231,
   "metadata": {},
   "outputs": [],
   "source": [
    "car_price = pd.read_excel('saartot.xlsx',header = None)"
   ]
  },
  {
   "cell_type": "code",
   "execution_count": 232,
   "metadata": {},
   "outputs": [],
   "source": [
    "car_price = car_price.iloc[:,0:-1]"
   ]
  },
  {
   "cell_type": "code",
   "execution_count": 233,
   "metadata": {},
   "outputs": [],
   "source": [
    "car_price.columns = ['Date', 'Price', 'Change', 'Percent Change']\n",
    "car_price['Date']=car_price['Date'].astype(str)"
   ]
  },
  {
   "cell_type": "code",
   "execution_count": 234,
   "metadata": {},
   "outputs": [],
   "source": [
    "car_price = car_price.loc[[i for i in range(248) if not car_price.loc[i,'Date'][0]!= '2'], :]"
   ]
  },
  {
   "cell_type": "code",
   "execution_count": 235,
   "metadata": {},
   "outputs": [
    {
     "data": {
      "text/html": [
       "<div>\n",
       "<style scoped>\n",
       "    .dataframe tbody tr th:only-of-type {\n",
       "        vertical-align: middle;\n",
       "    }\n",
       "\n",
       "    .dataframe tbody tr th {\n",
       "        vertical-align: top;\n",
       "    }\n",
       "\n",
       "    .dataframe thead th {\n",
       "        text-align: right;\n",
       "    }\n",
       "</style>\n",
       "<table border=\"1\" class=\"dataframe\">\n",
       "  <thead>\n",
       "    <tr style=\"text-align: right;\">\n",
       "      <th></th>\n",
       "      <th>Date</th>\n",
       "      <th>Price</th>\n",
       "      <th>Change</th>\n",
       "      <th>Percent Change</th>\n",
       "    </tr>\n",
       "  </thead>\n",
       "  <tbody>\n",
       "    <tr>\n",
       "      <th>0</th>\n",
       "      <td>2019-02-28</td>\n",
       "      <td>16.56</td>\n",
       "      <td>-0.04</td>\n",
       "      <td>-0.0024</td>\n",
       "    </tr>\n",
       "    <tr>\n",
       "      <th>1</th>\n",
       "      <td>2019-01-31</td>\n",
       "      <td>16.60</td>\n",
       "      <td>-0.90</td>\n",
       "      <td>-0.0514</td>\n",
       "    </tr>\n",
       "    <tr>\n",
       "      <th>3</th>\n",
       "      <td>2018-12-31</td>\n",
       "      <td>17.50</td>\n",
       "      <td>0.10</td>\n",
       "      <td>0.0057</td>\n",
       "    </tr>\n",
       "    <tr>\n",
       "      <th>4</th>\n",
       "      <td>2018-11-30</td>\n",
       "      <td>17.40</td>\n",
       "      <td>-0.10</td>\n",
       "      <td>-0.0057</td>\n",
       "    </tr>\n",
       "    <tr>\n",
       "      <th>5</th>\n",
       "      <td>2018-10-31</td>\n",
       "      <td>17.50</td>\n",
       "      <td>0.10</td>\n",
       "      <td>0.0057</td>\n",
       "    </tr>\n",
       "  </tbody>\n",
       "</table>\n",
       "</div>"
      ],
      "text/plain": [
       "         Date  Price  Change  Percent Change\n",
       "0  2019-02-28  16.56   -0.04         -0.0024\n",
       "1  2019-01-31  16.60   -0.90         -0.0514\n",
       "3  2018-12-31  17.50    0.10          0.0057\n",
       "4  2018-11-30  17.40   -0.10         -0.0057\n",
       "5  2018-10-31  17.50    0.10          0.0057"
      ]
     },
     "execution_count": 235,
     "metadata": {},
     "output_type": "execute_result"
    }
   ],
   "source": [
    "car_price.head()"
   ]
  },
  {
   "cell_type": "code",
   "execution_count": 236,
   "metadata": {},
   "outputs": [],
   "source": [
    "feature_df = pd.read_csv('car_data_clean.csv')"
   ]
  },
  {
   "cell_type": "code",
   "execution_count": 237,
   "metadata": {},
   "outputs": [
    {
     "data": {
      "text/html": [
       "<div>\n",
       "<style scoped>\n",
       "    .dataframe tbody tr th:only-of-type {\n",
       "        vertical-align: middle;\n",
       "    }\n",
       "\n",
       "    .dataframe tbody tr th {\n",
       "        vertical-align: top;\n",
       "    }\n",
       "\n",
       "    .dataframe thead th {\n",
       "        text-align: right;\n",
       "    }\n",
       "</style>\n",
       "<table border=\"1\" class=\"dataframe\">\n",
       "  <thead>\n",
       "    <tr style=\"text-align: right;\">\n",
       "      <th></th>\n",
       "      <th>Unnamed: 0</th>\n",
       "      <th>Date</th>\n",
       "      <th>Audi</th>\n",
       "      <th>BMW</th>\n",
       "      <th>Mercedes Benz</th>\n",
       "      <th>Mitsubishi Fuso</th>\n",
       "      <th>FCA</th>\n",
       "      <th>General Motors</th>\n",
       "      <th>Honda Group</th>\n",
       "      <th>Hyundai</th>\n",
       "      <th>...</th>\n",
       "      <th>Volkswagen</th>\n",
       "      <th>Volvo</th>\n",
       "      <th>Imported</th>\n",
       "      <th>Light Trucks</th>\n",
       "      <th>Domestic</th>\n",
       "      <th>Cars</th>\n",
       "      <th>Mini</th>\n",
       "      <th>Light Vehicles</th>\n",
       "      <th>Medium Duty Trucks</th>\n",
       "      <th>Hybrid/Electric/Fuel Cell Vehicles</th>\n",
       "    </tr>\n",
       "  </thead>\n",
       "  <tbody>\n",
       "    <tr>\n",
       "      <th>0</th>\n",
       "      <td>9</td>\n",
       "      <td>Jan 2019</td>\n",
       "      <td>14253</td>\n",
       "      <td>18102</td>\n",
       "      <td>23721</td>\n",
       "      <td>0</td>\n",
       "      <td>136082</td>\n",
       "      <td>0</td>\n",
       "      <td>106139</td>\n",
       "      <td>42020</td>\n",
       "      <td>...</td>\n",
       "      <td>23074</td>\n",
       "      <td>5854</td>\n",
       "      <td>226484</td>\n",
       "      <td>468419</td>\n",
       "      <td>511241</td>\n",
       "      <td>252564</td>\n",
       "      <td>2457</td>\n",
       "      <td>135396</td>\n",
       "      <td>0</td>\n",
       "      <td>0</td>\n",
       "    </tr>\n",
       "    <tr>\n",
       "      <th>1</th>\n",
       "      <td>10</td>\n",
       "      <td>Dec 2018</td>\n",
       "      <td>22765</td>\n",
       "      <td>34357</td>\n",
       "      <td>36132</td>\n",
       "      <td>4</td>\n",
       "      <td>196520</td>\n",
       "      <td>0</td>\n",
       "      <td>155115</td>\n",
       "      <td>65721</td>\n",
       "      <td>...</td>\n",
       "      <td>32047</td>\n",
       "      <td>8826</td>\n",
       "      <td>336987</td>\n",
       "      <td>880440</td>\n",
       "      <td>938357</td>\n",
       "      <td>370718</td>\n",
       "      <td>2797</td>\n",
       "      <td>408603</td>\n",
       "      <td>6985</td>\n",
       "      <td>0</td>\n",
       "    </tr>\n",
       "    <tr>\n",
       "      <th>2</th>\n",
       "      <td>11</td>\n",
       "      <td>Nov 2018</td>\n",
       "      <td>17082</td>\n",
       "      <td>28330</td>\n",
       "      <td>32879</td>\n",
       "      <td>3</td>\n",
       "      <td>181310</td>\n",
       "      <td>0</td>\n",
       "      <td>120534</td>\n",
       "      <td>57499</td>\n",
       "      <td>...</td>\n",
       "      <td>26789</td>\n",
       "      <td>8181</td>\n",
       "      <td>290784</td>\n",
       "      <td>742197</td>\n",
       "      <td>802277</td>\n",
       "      <td>328741</td>\n",
       "      <td>3528</td>\n",
       "      <td>370345</td>\n",
       "      <td>6056</td>\n",
       "      <td>0</td>\n",
       "    </tr>\n",
       "    <tr>\n",
       "      <th>3</th>\n",
       "      <td>12</td>\n",
       "      <td>Oct 2018</td>\n",
       "      <td>16056</td>\n",
       "      <td>23262</td>\n",
       "      <td>31719</td>\n",
       "      <td>4</td>\n",
       "      <td>177391</td>\n",
       "      <td>0</td>\n",
       "      <td>122182</td>\n",
       "      <td>53025</td>\n",
       "      <td>...</td>\n",
       "      <td>29000</td>\n",
       "      <td>7327</td>\n",
       "      <td>276661</td>\n",
       "      <td>713369</td>\n",
       "      <td>794920</td>\n",
       "      <td>339215</td>\n",
       "      <td>3166</td>\n",
       "      <td>361991</td>\n",
       "      <td>6628</td>\n",
       "      <td>0</td>\n",
       "    </tr>\n",
       "    <tr>\n",
       "      <th>4</th>\n",
       "      <td>13</td>\n",
       "      <td>Sep 2018</td>\n",
       "      <td>19319</td>\n",
       "      <td>25908</td>\n",
       "      <td>30617</td>\n",
       "      <td>3</td>\n",
       "      <td>199819</td>\n",
       "      <td>0</td>\n",
       "      <td>132668</td>\n",
       "      <td>57359</td>\n",
       "      <td>...</td>\n",
       "      <td>30555</td>\n",
       "      <td>8715</td>\n",
       "      <td>302174</td>\n",
       "      <td>782222</td>\n",
       "      <td>854461</td>\n",
       "      <td>351203</td>\n",
       "      <td>3461</td>\n",
       "      <td>389503</td>\n",
       "      <td>6491</td>\n",
       "      <td>0</td>\n",
       "    </tr>\n",
       "  </tbody>\n",
       "</table>\n",
       "<p>5 rows × 30 columns</p>\n",
       "</div>"
      ],
      "text/plain": [
       "   Unnamed: 0      Date   Audi    BMW  Mercedes Benz  Mitsubishi Fuso     FCA  \\\n",
       "0           9  Jan 2019  14253  18102          23721                0  136082   \n",
       "1          10  Dec 2018  22765  34357          36132                4  196520   \n",
       "2          11  Nov 2018  17082  28330          32879                3  181310   \n",
       "3          12  Oct 2018  16056  23262          31719                4  177391   \n",
       "4          13  Sep 2018  19319  25908          30617                3  199819   \n",
       "\n",
       "   General Motors  Honda Group  Hyundai                 ...                  \\\n",
       "0               0       106139    42020                 ...                   \n",
       "1               0       155115    65721                 ...                   \n",
       "2               0       120534    57499                 ...                   \n",
       "3               0       122182    53025                 ...                   \n",
       "4               0       132668    57359                 ...                   \n",
       "\n",
       "   Volkswagen  Volvo  Imported  Light Trucks  Domestic    Cars  Mini  \\\n",
       "0       23074   5854    226484        468419    511241  252564  2457   \n",
       "1       32047   8826    336987        880440    938357  370718  2797   \n",
       "2       26789   8181    290784        742197    802277  328741  3528   \n",
       "3       29000   7327    276661        713369    794920  339215  3166   \n",
       "4       30555   8715    302174        782222    854461  351203  3461   \n",
       "\n",
       "   Light Vehicles  Medium Duty Trucks  Hybrid/Electric/Fuel Cell Vehicles  \n",
       "0          135396                   0                                   0  \n",
       "1          408603                6985                                   0  \n",
       "2          370345                6056                                   0  \n",
       "3          361991                6628                                   0  \n",
       "4          389503                6491                                   0  \n",
       "\n",
       "[5 rows x 30 columns]"
      ]
     },
     "execution_count": 237,
     "metadata": {},
     "output_type": "execute_result"
    }
   ],
   "source": [
    "feature_df.head()"
   ]
  },
  {
   "cell_type": "code",
   "execution_count": 238,
   "metadata": {},
   "outputs": [],
   "source": [
    "car_price.index = np.arange(230)"
   ]
  },
  {
   "cell_type": "code",
   "execution_count": null,
   "metadata": {},
   "outputs": [],
   "source": []
  },
  {
   "cell_type": "code",
   "execution_count": 239,
   "metadata": {},
   "outputs": [
    {
     "data": {
      "text/plain": [
       "Index(['Unnamed: 0', 'Date', 'Audi', 'BMW', 'Mercedes Benz', 'Mitsubishi Fuso',\n",
       "       'FCA', 'General Motors', 'Honda Group', 'Hyundai', 'Isuzu',\n",
       "       'Jaguar Land Rover', 'Kia', 'Mazda', 'Mitsubishi', 'Nissan', 'Porsche',\n",
       "       'Subaru', 'Tesla', 'Toyota Group', 'Volkswagen', 'Volvo', 'Imported',\n",
       "       'Light Trucks', 'Domestic', 'Cars', 'Mini', 'Light Vehicles',\n",
       "       'Medium Duty Trucks', 'Hybrid/Electric/Fuel Cell Vehicles'],\n",
       "      dtype='object')"
      ]
     },
     "execution_count": 239,
     "metadata": {},
     "output_type": "execute_result"
    }
   ],
   "source": [
    "feature_df.columns"
   ]
  },
  {
   "cell_type": "code",
   "execution_count": 240,
   "metadata": {},
   "outputs": [],
   "source": [
    "full_df = car_price.iloc[0:-1,:].join(feature_df,how='right',lsuffix='_dep', rsuffix='_indep')\n",
    "full_df = full_df.drop(columns = 'Unnamed: 0')"
   ]
  },
  {
   "cell_type": "code",
   "execution_count": 241,
   "metadata": {},
   "outputs": [
    {
     "data": {
      "text/plain": [
       "Index(['Date_dep', 'Price', 'Change', 'Percent Change', 'Date_indep', 'Audi',\n",
       "       'BMW', 'Mercedes Benz', 'Mitsubishi Fuso', 'FCA', 'General Motors',\n",
       "       'Honda Group', 'Hyundai', 'Isuzu', 'Jaguar Land Rover', 'Kia', 'Mazda',\n",
       "       'Mitsubishi', 'Nissan', 'Porsche', 'Subaru', 'Tesla', 'Toyota Group',\n",
       "       'Volkswagen', 'Volvo', 'Imported', 'Light Trucks', 'Domestic', 'Cars',\n",
       "       'Mini', 'Light Vehicles', 'Medium Duty Trucks',\n",
       "       'Hybrid/Electric/Fuel Cell Vehicles'],\n",
       "      dtype='object')"
      ]
     },
     "execution_count": 241,
     "metadata": {},
     "output_type": "execute_result"
    }
   ],
   "source": [
    "full_df.columns"
   ]
  },
  {
   "cell_type": "code",
   "execution_count": 242,
   "metadata": {},
   "outputs": [],
   "source": [
    "full_df['Percent Change'] = full_df['Percent Change'].apply(lambda x: 0 if x<0 else 1)"
   ]
  },
  {
   "cell_type": "code",
   "execution_count": 225,
   "metadata": {},
   "outputs": [
    {
     "data": {
      "text/plain": [
       "Index(['Date_dep', 'Price', 'Change', 'Percent Change', 'Date_indep', 'Audi',\n",
       "       'BMW', 'Mercedes Benz', 'Mitsubishi Fuso', 'FCA', 'General Motors',\n",
       "       'Honda Group', 'Hyundai', 'Isuzu', 'Jaguar Land Rover', 'Kia', 'Mazda',\n",
       "       'Mitsubishi', 'Nissan', 'Porsche', 'Subaru', 'Tesla', 'Toyota Group',\n",
       "       'Volkswagen', 'Volvo', 'Imported', 'Light Trucks', 'Domestic', 'Cars',\n",
       "       'Mini', 'Light Vehicles', 'Medium Duty Trucks',\n",
       "       'Hybrid/Electric/Fuel Cell Vehicles'],\n",
       "      dtype='object')"
      ]
     },
     "execution_count": 225,
     "metadata": {},
     "output_type": "execute_result"
    }
   ],
   "source": [
    "full_df.columns"
   ]
  },
  {
   "cell_type": "code",
   "execution_count": 222,
   "metadata": {},
   "outputs": [
    {
     "data": {
      "text/plain": [
       "-1.0408340855860843e-17"
      ]
     },
     "execution_count": 222,
     "metadata": {},
     "output_type": "execute_result"
    }
   ],
   "source": []
  },
  {
   "cell_type": "code",
   "execution_count": 243,
   "metadata": {},
   "outputs": [
    {
     "name": "stdout",
     "output_type": "stream",
     "text": [
      "0.99641803567476\n"
     ]
    },
    {
     "data": {
      "text/plain": [
       "array([[ 3.03970640e-03,  7.48527556e-03,  5.34293438e-03,\n",
       "         5.78392338e-06,  5.28475399e-02,  2.78014607e-01,\n",
       "         4.38814966e-02,  7.41615986e-03,  3.77359983e-03,\n",
       "         2.10223088e-03,  4.13094028e-03,  9.19785389e-03,\n",
       "         1.42779331e-02,  2.93464158e-02,  3.65164350e-05,\n",
       "         7.84300922e-03, -5.90774421e-04,  6.25809856e-02,\n",
       "         9.98627164e-03,  5.91294763e-03,  8.55493636e-02,\n",
       "         4.66046043e-01,  7.00525340e-01,  3.17929994e-01,\n",
       "        -1.25935687e-03,  3.09656000e-01,  1.79711033e-03,\n",
       "         1.78267165e-02],\n",
       "       [ 3.16632060e-02,  2.36492568e-02,  3.71886424e-02,\n",
       "         3.23880615e-05,  5.29850473e-01, -4.66708067e-01,\n",
       "         7.94319666e-02,  7.59346041e-02, -9.62922619e-03,\n",
       "         2.62498695e-02,  8.18308632e-02,  8.97766187e-03,\n",
       "        -2.78397499e-02,  1.54067660e-01,  9.58180236e-03,\n",
       "         1.06092496e-01,  1.68528880e-02,  1.32788659e-01,\n",
       "         1.02037692e-02, -5.83629156e-03,  2.08047916e-01,\n",
       "         4.91414783e-01, -2.63710821e-02, -3.40737689e-01,\n",
       "         6.41647961e-03, -1.23209538e-01,  1.73820755e-02,\n",
       "         8.86271200e-02],\n",
       "       [ 1.43297303e-02,  2.43847722e-02,  2.32985595e-02,\n",
       "         3.01246087e-05,  5.98307061e-02, -3.48737507e-01,\n",
       "         1.66101592e-01,  1.24925717e-01, -1.10205004e-02,\n",
       "        -1.84607306e-03,  1.02060401e-01,  2.86361477e-02,\n",
       "        -4.48061084e-02,  1.42216860e-01,  5.75158031e-03,\n",
       "         4.39971441e-02, -6.67674681e-03,  2.66056679e-01,\n",
       "         3.34686083e-02, -1.60481093e-02,  2.86023328e-01,\n",
       "        -3.31711880e-01,  8.17799966e-02,  6.67582468e-01,\n",
       "         1.61011087e-02, -2.51107872e-01,  1.39170765e-04,\n",
       "         1.22396602e-01],\n",
       "       [ 8.81551522e-03, -1.90393117e-02, -4.76674745e-03,\n",
       "         1.66786539e-05,  4.06698926e-01, -3.83593631e-01,\n",
       "        -1.30862556e-01, -2.75620674e-02,  2.38641828e-02,\n",
       "         1.18080421e-02,  8.97086544e-03, -6.15388768e-03,\n",
       "         5.47803866e-02, -7.66846917e-02, -6.73067174e-03,\n",
       "         3.77585459e-02,  1.33988468e-02, -2.67299276e-01,\n",
       "         3.89164625e-02, -9.73626293e-04, -3.03723328e-01,\n",
       "        -3.26036228e-01,  9.25489885e-02,  1.09199540e-01,\n",
       "        -1.41386507e-02,  6.04426024e-01,  1.17873448e-02,\n",
       "        -8.58575808e-03],\n",
       "       [-7.67930765e-03,  1.34422786e-02, -7.36798826e-03,\n",
       "        -7.89933466e-05, -6.37548220e-01, -4.98527354e-01,\n",
       "         1.17896300e-01, -2.71810349e-03,  6.49877433e-04,\n",
       "        -1.49126330e-02, -2.46980100e-02,  1.04209918e-02,\n",
       "         6.86204909e-03, -3.67673736e-02, -1.17688809e-04,\n",
       "        -3.26570914e-02,  2.13398723e-02,  1.85680734e-01,\n",
       "         1.38876207e-02,  2.44660263e-02,  1.97636867e-01,\n",
       "         1.54956212e-01, -3.94553472e-02, -1.00469557e-01,\n",
       "         1.60818019e-03,  4.21417028e-01, -1.74158498e-02,\n",
       "        -1.97610807e-01],\n",
       "       [ 3.94262674e-02,  9.90376951e-03,  5.75817086e-02,\n",
       "         4.69059948e-05, -3.52767512e-01, -2.51136903e-01,\n",
       "        -1.08429286e-01,  1.90003276e-01, -8.65472178e-03,\n",
       "        -1.71215491e-03,  1.67984462e-01, -6.97874398e-03,\n",
       "        -8.46160332e-02,  1.83024852e-01,  8.20070703e-03,\n",
       "         1.05896242e-01, -1.41315880e-02, -3.21461858e-01,\n",
       "         1.23295276e-01, -3.24343627e-02, -3.12647068e-01,\n",
       "        -2.15421769e-02,  3.80314673e-01, -1.72962855e-01,\n",
       "         2.28859919e-02, -2.52573010e-01, -1.03558533e-02,\n",
       "         4.71584062e-01],\n",
       "       [-3.83322330e-02, -4.94848573e-02, -4.12087839e-02,\n",
       "        -2.37243068e-05,  5.41514197e-02, -1.03607040e-01,\n",
       "         1.11743471e-01, -1.96912762e-01, -1.69995002e-02,\n",
       "        -1.79907469e-02, -1.40820748e-01, -3.52274955e-02,\n",
       "        -1.43201018e-01, -3.02299688e-02,  1.35412873e-02,\n",
       "        -6.84646856e-02, -6.42670251e-04,  6.06262717e-01,\n",
       "        -1.34064142e-01, -2.68004233e-03, -4.72994831e-01,\n",
       "        -2.00617397e-01,  3.54227528e-01, -2.24204770e-01,\n",
       "         1.26473662e-02, -1.57040323e-01, -1.60868103e-03,\n",
       "        -1.77213341e-01]])"
      ]
     },
     "execution_count": 243,
     "metadata": {},
     "output_type": "execute_result"
    }
   ],
   "source": [
    "pca = PCA(n_components=7, svd_solver='arpack')\n",
    "pca.fit(X)\n",
    "print(sum(pca.explained_variance_ratio_))\n",
    "pca.components_\n"
   ]
  },
  {
   "cell_type": "code",
   "execution_count": 244,
   "metadata": {},
   "outputs": [
    {
     "name": "stderr",
     "output_type": "stream",
     "text": [
      "/Users/royluo/anaconda3/lib/python3.6/site-packages/sklearn/preprocessing/data.py:625: DataConversionWarning: Data with input dtype int64 were all converted to float64 by StandardScaler.\n",
      "  return self.partial_fit(X, y)\n",
      "/Users/royluo/anaconda3/lib/python3.6/site-packages/ipykernel_launcher.py:23: DataConversionWarning: Data with input dtype int64 were all converted to float64 by StandardScaler.\n",
      "/Users/royluo/anaconda3/lib/python3.6/site-packages/ipykernel_launcher.py:24: DataConversionWarning: Data with input dtype int64 were all converted to float64 by StandardScaler.\n"
     ]
    }
   ],
   "source": [
    "from patsy import dmatrix\n",
    "from sklearn.linear_model import LinearRegression\n",
    "from sklearn.preprocessing import StandardScaler\n",
    "import xgboost as xgb\n",
    "from sklearn.model_selection import train_test_split\n",
    "from sklearn.preprocessing import StandardScaler\n",
    "from sklearn.metrics import accuracy_score\n",
    "from sklearn.linear_model import LogisticRegression\n",
    "from sklearn.decomposition import PCA\n",
    "\n",
    "scalar = StandardScaler()\n",
    "scalar.fit(X)\n",
    "\n",
    "log = LogisticRegression()\n",
    "\n",
    "y = full_df['Percent Change']\n",
    "X = full_df[full_df.columns[5::]]\n",
    "#gbm = xgb.XGBRegressor(objective = 'reg:linear',gamma = 0, n_estimators = 1000)\n",
    "gbm = xgb.XGBClassifier(objective = 'binary:logistic',gamma = 10, max_depth = 2)\n",
    "\n",
    "X_train, X_test, y_train, y_test = train_test_split(X, y, test_size=0.2, random_state=0)\n",
    "\n",
    "X_train = scalar.transform(X_train)\n",
    "X_test = scalar.transform(X_test)\n",
    "#y_test_sorted = y_test.sort_index()\n",
    "#X_test_sorted = X_test.sort_index()\n",
    "#X_test_sorted = scalar.transform(X_test_sorted)"
   ]
  },
  {
   "cell_type": "code",
   "execution_count": null,
   "metadata": {},
   "outputs": [],
   "source": []
  },
  {
   "cell_type": "code",
   "execution_count": null,
   "metadata": {},
   "outputs": [],
   "source": []
  },
  {
   "cell_type": "code",
   "execution_count": 247,
   "metadata": {},
   "outputs": [
    {
     "name": "stderr",
     "output_type": "stream",
     "text": [
      "/Users/royluo/anaconda3/lib/python3.6/site-packages/sklearn/linear_model/logistic.py:433: FutureWarning: Default solver will be changed to 'lbfgs' in 0.22. Specify a solver to silence this warning.\n",
      "  FutureWarning)\n"
     ]
    },
    {
     "data": {
      "text/plain": [
       "0.41304347826086957"
      ]
     },
     "execution_count": 247,
     "metadata": {},
     "output_type": "execute_result"
    }
   ],
   "source": [
    "# gbm.fit(X_train,y_train)\n",
    "# y_predict = gbm.predict(X_test)\n",
    "# accuracy_score(y_predict, y_test)\n",
    "\n",
    "log.fit(X_train,y_train)\n",
    "y_predict = log.predict(X_test)\n",
    "accuracy_score(y_predict, y_test)\n",
    "\n",
    "# from sklearn.metrics import roc_auc_score\n",
    "# from sklearn.metrics import roc_curve\n",
    "# logit_roc_auc = roc_auc_score(y_test, y_predict)\n",
    "# fpr, tpr, thresholds = roc_curve(y_test, log.predict_proba(X_test))\n",
    "# plt.plot(fpr, tpr, label='Logistic Regression (area = %0.2f)' % logit_roc_auc)\n",
    "# plt.plot([0, 1], [0, 1],'r--')\n",
    "# plt.xlim([0.0, 1.0])\n",
    "# plt.ylim([0.0, 1.05])\n",
    "# plt.xlabel('False Positive Rate')\n",
    "# plt.ylabel('True Positive Rate')\n",
    "# plt.title('Receiver operating characteristic')\n",
    "# plt.legend(loc=\"lower right\")\n",
    "# print (logit_roc_auc)"
   ]
  },
  {
   "cell_type": "code",
   "execution_count": 161,
   "metadata": {},
   "outputs": [
    {
     "data": {
      "text/plain": [
       "<matplotlib.axes._subplots.AxesSubplot at 0x1a1d306b00>"
      ]
     },
     "execution_count": 161,
     "metadata": {},
     "output_type": "execute_result"
    },
    {
     "data": {
      "image/png": "[encoded data removed]",
      "text/plain": [
       "<Figure size 432x288 with 1 Axes>"
      ]
     },
     "metadata": {
      "needs_background": "light"
     },
     "output_type": "display_data"
    }
   ],
   "source": [
    "xgb.plot_importance(gbm)"
   ]
  },
  {
   "cell_type": "code",
   "execution_count": 162,
   "metadata": {},
   "outputs": [],
   "source": [
    "#gbm.feature_importances_\n",
    "#y_test_sorted = y_test.sort_index()\n",
    "#X_test_sorted = X_test.sort_index()\n",
    "#X_train_new = X_train[['Audi','Honda Group','BMW','Hyundai','Isuzu','Mercedes Benz','General Motors']]\n",
    "#X_test_new = X_test_sorted[['Audi','Honda Group','BMW','Hyundai','Isuzu','Mercedes Benz','General Motors']]"
   ]
  },
  {
   "cell_type": "code",
   "execution_count": 148,
   "metadata": {},
   "outputs": [
    {
     "data": {
      "text/plain": [
       "XGBRegressor(base_score=0.5, booster='gbtree', colsample_bylevel=1,\n",
       "       colsample_bytree=1, gamma=0, learning_rate=0.1, max_delta_step=0,\n",
       "       max_depth=3, min_child_weight=1, missing=None, n_estimators=100,\n",
       "       n_jobs=1, nthread=None, objective='reg:linear', random_state=0,\n",
       "       reg_alpha=0, reg_lambda=1, scale_pos_weight=1, seed=None,\n",
       "       silent=True, subsample=1)"
      ]
     },
     "execution_count": 148,
     "metadata": {},
     "output_type": "execute_result"
    }
   ],
   "source": [
    "# gbm_new = xgb.XGBRegressor(objective = 'reg:linear')\n",
    "# gbm_new.fit(X_train_new,y_train)"
   ]
  },
  {
   "cell_type": "code",
   "execution_count": 149,
   "metadata": {},
   "outputs": [
    {
     "data": {
      "text/plain": [
       "XGBRegressor(base_score=0.5, booster='gbtree', colsample_bylevel=1,\n",
       "       colsample_bytree=1, gamma=0, learning_rate=0.1, max_delta_step=0,\n",
       "       max_depth=3, min_child_weight=1, missing=None, n_estimators=100,\n",
       "       n_jobs=1, nthread=None, objective='reg:linear', random_state=0,\n",
       "       reg_alpha=0, reg_lambda=1, scale_pos_weight=1, seed=None,\n",
       "       silent=True, subsample=1)"
      ]
     },
     "execution_count": 149,
     "metadata": {},
     "output_type": "execute_result"
    }
   ],
   "source": [
    "# gbm_full = xgb.XGBRegressor(objective = 'reg:linear')\n",
    "# gbm_full.fit(X,y)"
   ]
  },
  {
   "cell_type": "code",
   "execution_count": 151,
   "metadata": {},
   "outputs": [
    {
     "data": {
      "text/plain": [
       "[<matplotlib.lines.Line2D at 0x1a1cf23198>]"
      ]
     },
     "execution_count": 151,
     "metadata": {},
     "output_type": "execute_result"
    },
    {
     "data": {
      "image/png": "[encoded data removed]",
      "text/plain": [
       "<Figure size 432x288 with 1 Axes>"
      ]
     },
     "metadata": {
      "needs_background": "light"
     },
     "output_type": "display_data"
    }
   ],
   "source": [
    "# plt.plot(y)\n",
    "# plt.plot(gbm_full.predict(X))"
   ]
  },
  {
   "cell_type": "code",
   "execution_count": 172,
   "metadata": {},
   "outputs": [
    {
     "data": {
      "text/plain": [
       "[<matplotlib.lines.Line2D at 0x1a1ce154e0>]"
      ]
     },
     "execution_count": 172,
     "metadata": {},
     "output_type": "execute_result"
    },
    {
     "data": {
      "image/png": "[encoded data removed]",
      "text/plain": [
       "<Figure size 432x288 with 1 Axes>"
      ]
     },
     "metadata": {
      "needs_background": "light"
     },
     "output_type": "display_data"
    }
   ],
   "source": [
    "# plt.plot(y_test_sorted)\n",
    "# plt.plot(y_test_sorted.index,gbm.predict(X_test_sorted))"
   ]
  },
  {
   "cell_type": "code",
   "execution_count": 143,
   "metadata": {},
   "outputs": [
    {
     "data": {
      "text/plain": [
       "[<matplotlib.lines.Line2D at 0x1a1cb37128>]"
      ]
     },
     "execution_count": 143,
     "metadata": {},
     "output_type": "execute_result"
    },
    {
     "data": {
      "image/png": "[encoded data removed]",
      "text/plain": [
       "<Figure size 432x288 with 1 Axes>"
      ]
     },
     "metadata": {
      "needs_background": "light"
     },
     "output_type": "display_data"
    }
   ],
   "source": [
    "# plt.plot(y_test_sorted.index,y_test_sorted)\n",
    "# plt.plot(X_test_new.index,gbm_new.predict(X_test_new))"
   ]
  },
  {
   "cell_type": "code",
   "execution_count": null,
   "metadata": {},
   "outputs": [],
   "source": []
  }
 ],
 "metadata": {
  "kernelspec": {
   "display_name": "Python 3",
   "language": "python",
   "name": "python3"
  },
  "language_info": {
   "codemirror_mode": {
    "name": "ipython",
    "version": 3
   },
   "file_extension": ".py",
   "mimetype": "text/x-python",
   "name": "python",
   "nbconvert_exporter": "python",
   "pygments_lexer": "ipython3",
   "version": "3.6.8"
  }
 },
 "nbformat": 4,
 "nbformat_minor": 2
}
