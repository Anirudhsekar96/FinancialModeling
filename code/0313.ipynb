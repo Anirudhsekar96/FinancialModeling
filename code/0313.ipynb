{
 "cells": [
  {
   "cell_type": "code",
   "execution_count": 1,
   "metadata": {},
   "outputs": [],
   "source": [
    "import pandas as pd\n",
    "import numpy as np\n",
    "import matplotlib.pyplot as plt\n",
    "%matplotlib inline"
   ]
  },
  {
   "cell_type": "code",
   "execution_count": 2,
   "metadata": {},
   "outputs": [
    {
     "data": {
      "text/html": [
       "<div>\n",
       "<style scoped>\n",
       "    .dataframe tbody tr th:only-of-type {\n",
       "        vertical-align: middle;\n",
       "    }\n",
       "\n",
       "    .dataframe tbody tr th {\n",
       "        vertical-align: top;\n",
       "    }\n",
       "\n",
       "    .dataframe thead th {\n",
       "        text-align: right;\n",
       "    }\n",
       "</style>\n",
       "<table border=\"1\" class=\"dataframe\">\n",
       "  <thead>\n",
       "    <tr style=\"text-align: right;\">\n",
       "      <th></th>\n",
       "      <th>0</th>\n",
       "      <th>1</th>\n",
       "      <th>2</th>\n",
       "      <th>3</th>\n",
       "      <th>4</th>\n",
       "    </tr>\n",
       "  </thead>\n",
       "  <tbody>\n",
       "    <tr>\n",
       "      <th>0</th>\n",
       "      <td>2019-02-28</td>\n",
       "      <td>16.56</td>\n",
       "      <td>-0.04</td>\n",
       "      <td>-0.0024</td>\n",
       "      <td>0.0</td>\n",
       "    </tr>\n",
       "    <tr>\n",
       "      <th>1</th>\n",
       "      <td>2019-01-31</td>\n",
       "      <td>16.60</td>\n",
       "      <td>-0.90</td>\n",
       "      <td>-0.0514</td>\n",
       "      <td>0.0</td>\n",
       "    </tr>\n",
       "    <tr>\n",
       "      <th>2</th>\n",
       "      <td>NaT</td>\n",
       "      <td>0.00</td>\n",
       "      <td>0.00</td>\n",
       "      <td>0.0000</td>\n",
       "      <td>0.0</td>\n",
       "    </tr>\n",
       "    <tr>\n",
       "      <th>3</th>\n",
       "      <td>2018-12-31</td>\n",
       "      <td>17.50</td>\n",
       "      <td>0.10</td>\n",
       "      <td>0.0057</td>\n",
       "      <td>0.0</td>\n",
       "    </tr>\n",
       "    <tr>\n",
       "      <th>4</th>\n",
       "      <td>2018-11-30</td>\n",
       "      <td>17.40</td>\n",
       "      <td>-0.10</td>\n",
       "      <td>-0.0057</td>\n",
       "      <td>0.0</td>\n",
       "    </tr>\n",
       "  </tbody>\n",
       "</table>\n",
       "</div>"
      ],
      "text/plain": [
       "           0      1     2       3    4\n",
       "0 2019-02-28  16.56 -0.04 -0.0024  0.0\n",
       "1 2019-01-31  16.60 -0.90 -0.0514  0.0\n",
       "2        NaT   0.00  0.00  0.0000  0.0\n",
       "3 2018-12-31  17.50  0.10  0.0057  0.0\n",
       "4 2018-11-30  17.40 -0.10 -0.0057  0.0"
      ]
     },
     "execution_count": 2,
     "metadata": {},
     "output_type": "execute_result"
    }
   ],
   "source": [
    "df = pd.read_excel('/Users/apple/Desktop/5293/project/saartot.xlsx', header=None)\n",
    "df.head()"
   ]
  },
  {
   "cell_type": "code",
   "execution_count": 3,
   "metadata": {},
   "outputs": [],
   "source": [
    "car_price = df.iloc[:,0:-1]"
   ]
  },
  {
   "cell_type": "code",
   "execution_count": 4,
   "metadata": {},
   "outputs": [],
   "source": [
    "car_price.columns = ['Date', 'Price', 'Change', 'Percent Change']\n",
    "car_price['Date'] = car_price['Date'].astype(str)"
   ]
  },
  {
   "cell_type": "code",
   "execution_count": 5,
   "metadata": {},
   "outputs": [],
   "source": [
    "car_price = car_price.loc[[i for i in range(248) if not car_price.loc[i,'Date'][0]!= '2'], :]"
   ]
  },
  {
   "cell_type": "code",
   "execution_count": 6,
   "metadata": {},
   "outputs": [
    {
     "data": {
      "text/html": [
       "<div>\n",
       "<style scoped>\n",
       "    .dataframe tbody tr th:only-of-type {\n",
       "        vertical-align: middle;\n",
       "    }\n",
       "\n",
       "    .dataframe tbody tr th {\n",
       "        vertical-align: top;\n",
       "    }\n",
       "\n",
       "    .dataframe thead th {\n",
       "        text-align: right;\n",
       "    }\n",
       "</style>\n",
       "<table border=\"1\" class=\"dataframe\">\n",
       "  <thead>\n",
       "    <tr style=\"text-align: right;\">\n",
       "      <th></th>\n",
       "      <th>Date</th>\n",
       "      <th>Price</th>\n",
       "      <th>Change</th>\n",
       "      <th>Percent Change</th>\n",
       "    </tr>\n",
       "  </thead>\n",
       "  <tbody>\n",
       "    <tr>\n",
       "      <th>0</th>\n",
       "      <td>2019-02-28</td>\n",
       "      <td>16.56</td>\n",
       "      <td>-0.04</td>\n",
       "      <td>-0.0024</td>\n",
       "    </tr>\n",
       "    <tr>\n",
       "      <th>1</th>\n",
       "      <td>2019-01-31</td>\n",
       "      <td>16.60</td>\n",
       "      <td>-0.90</td>\n",
       "      <td>-0.0514</td>\n",
       "    </tr>\n",
       "    <tr>\n",
       "      <th>3</th>\n",
       "      <td>2018-12-31</td>\n",
       "      <td>17.50</td>\n",
       "      <td>0.10</td>\n",
       "      <td>0.0057</td>\n",
       "    </tr>\n",
       "    <tr>\n",
       "      <th>4</th>\n",
       "      <td>2018-11-30</td>\n",
       "      <td>17.40</td>\n",
       "      <td>-0.10</td>\n",
       "      <td>-0.0057</td>\n",
       "    </tr>\n",
       "    <tr>\n",
       "      <th>5</th>\n",
       "      <td>2018-10-31</td>\n",
       "      <td>17.50</td>\n",
       "      <td>0.10</td>\n",
       "      <td>0.0057</td>\n",
       "    </tr>\n",
       "  </tbody>\n",
       "</table>\n",
       "</div>"
      ],
      "text/plain": [
       "         Date  Price  Change  Percent Change\n",
       "0  2019-02-28  16.56   -0.04         -0.0024\n",
       "1  2019-01-31  16.60   -0.90         -0.0514\n",
       "3  2018-12-31  17.50    0.10          0.0057\n",
       "4  2018-11-30  17.40   -0.10         -0.0057\n",
       "5  2018-10-31  17.50    0.10          0.0057"
      ]
     },
     "execution_count": 6,
     "metadata": {},
     "output_type": "execute_result"
    }
   ],
   "source": [
    "car_price.head()"
   ]
  },
  {
   "cell_type": "code",
   "execution_count": 7,
   "metadata": {},
   "outputs": [],
   "source": [
    "feature_df = df.iloc[:, 0:-3]"
   ]
  },
  {
   "cell_type": "code",
   "execution_count": 8,
   "metadata": {},
   "outputs": [
    {
     "data": {
      "text/html": [
       "<div>\n",
       "<style scoped>\n",
       "    .dataframe tbody tr th:only-of-type {\n",
       "        vertical-align: middle;\n",
       "    }\n",
       "\n",
       "    .dataframe tbody tr th {\n",
       "        vertical-align: top;\n",
       "    }\n",
       "\n",
       "    .dataframe thead th {\n",
       "        text-align: right;\n",
       "    }\n",
       "</style>\n",
       "<table border=\"1\" class=\"dataframe\">\n",
       "  <thead>\n",
       "    <tr style=\"text-align: right;\">\n",
       "      <th></th>\n",
       "      <th>0</th>\n",
       "      <th>1</th>\n",
       "    </tr>\n",
       "  </thead>\n",
       "  <tbody>\n",
       "    <tr>\n",
       "      <th>0</th>\n",
       "      <td>2019-02-28</td>\n",
       "      <td>16.56</td>\n",
       "    </tr>\n",
       "    <tr>\n",
       "      <th>1</th>\n",
       "      <td>2019-01-31</td>\n",
       "      <td>16.60</td>\n",
       "    </tr>\n",
       "    <tr>\n",
       "      <th>2</th>\n",
       "      <td>NaT</td>\n",
       "      <td>0.00</td>\n",
       "    </tr>\n",
       "    <tr>\n",
       "      <th>3</th>\n",
       "      <td>2018-12-31</td>\n",
       "      <td>17.50</td>\n",
       "    </tr>\n",
       "    <tr>\n",
       "      <th>4</th>\n",
       "      <td>2018-11-30</td>\n",
       "      <td>17.40</td>\n",
       "    </tr>\n",
       "  </tbody>\n",
       "</table>\n",
       "</div>"
      ],
      "text/plain": [
       "           0      1\n",
       "0 2019-02-28  16.56\n",
       "1 2019-01-31  16.60\n",
       "2        NaT   0.00\n",
       "3 2018-12-31  17.50\n",
       "4 2018-11-30  17.40"
      ]
     },
     "execution_count": 8,
     "metadata": {},
     "output_type": "execute_result"
    }
   ],
   "source": [
    "feature_df.head()"
   ]
  },
  {
   "cell_type": "code",
   "execution_count": 10,
   "metadata": {},
   "outputs": [],
   "source": [
    "feature_df = pd.read_csv('/Users/apple/Desktop/5293/project/car_data_clean-master-2/car_data_clean.csv')"
   ]
  },
  {
   "cell_type": "code",
   "execution_count": 11,
   "metadata": {},
   "outputs": [
    {
     "data": {
      "text/html": [
       "<div>\n",
       "<style scoped>\n",
       "    .dataframe tbody tr th:only-of-type {\n",
       "        vertical-align: middle;\n",
       "    }\n",
       "\n",
       "    .dataframe tbody tr th {\n",
       "        vertical-align: top;\n",
       "    }\n",
       "\n",
       "    .dataframe thead th {\n",
       "        text-align: right;\n",
       "    }\n",
       "</style>\n",
       "<table border=\"1\" class=\"dataframe\">\n",
       "  <thead>\n",
       "    <tr style=\"text-align: right;\">\n",
       "      <th></th>\n",
       "      <th>Unnamed: 0</th>\n",
       "      <th>Date</th>\n",
       "      <th>Audi</th>\n",
       "      <th>BMW</th>\n",
       "      <th>Mercedes Benz</th>\n",
       "      <th>Mitsubishi Fuso</th>\n",
       "      <th>FCA</th>\n",
       "      <th>General Motors</th>\n",
       "      <th>Honda Group</th>\n",
       "      <th>Hyundai</th>\n",
       "      <th>...</th>\n",
       "      <th>Volkswagen</th>\n",
       "      <th>Volvo</th>\n",
       "      <th>Imported</th>\n",
       "      <th>Light Trucks</th>\n",
       "      <th>Domestic</th>\n",
       "      <th>Cars</th>\n",
       "      <th>Mini</th>\n",
       "      <th>Light Vehicles</th>\n",
       "      <th>Medium Duty Trucks</th>\n",
       "      <th>Hybrid/Electric/Fuel Cell Vehicles</th>\n",
       "    </tr>\n",
       "  </thead>\n",
       "  <tbody>\n",
       "    <tr>\n",
       "      <th>0</th>\n",
       "      <td>9</td>\n",
       "      <td>Jan 2019</td>\n",
       "      <td>14253</td>\n",
       "      <td>18102</td>\n",
       "      <td>23721</td>\n",
       "      <td>0</td>\n",
       "      <td>136082</td>\n",
       "      <td>0</td>\n",
       "      <td>106139</td>\n",
       "      <td>42020</td>\n",
       "      <td>...</td>\n",
       "      <td>23074</td>\n",
       "      <td>5854</td>\n",
       "      <td>226484</td>\n",
       "      <td>468419</td>\n",
       "      <td>511241</td>\n",
       "      <td>252564</td>\n",
       "      <td>2457</td>\n",
       "      <td>135396</td>\n",
       "      <td>0</td>\n",
       "      <td>0</td>\n",
       "    </tr>\n",
       "    <tr>\n",
       "      <th>1</th>\n",
       "      <td>10</td>\n",
       "      <td>Dec 2018</td>\n",
       "      <td>22765</td>\n",
       "      <td>34357</td>\n",
       "      <td>36132</td>\n",
       "      <td>4</td>\n",
       "      <td>196520</td>\n",
       "      <td>0</td>\n",
       "      <td>155115</td>\n",
       "      <td>65721</td>\n",
       "      <td>...</td>\n",
       "      <td>32047</td>\n",
       "      <td>8826</td>\n",
       "      <td>336987</td>\n",
       "      <td>880440</td>\n",
       "      <td>938357</td>\n",
       "      <td>370718</td>\n",
       "      <td>2797</td>\n",
       "      <td>408603</td>\n",
       "      <td>6985</td>\n",
       "      <td>0</td>\n",
       "    </tr>\n",
       "    <tr>\n",
       "      <th>2</th>\n",
       "      <td>11</td>\n",
       "      <td>Nov 2018</td>\n",
       "      <td>17082</td>\n",
       "      <td>28330</td>\n",
       "      <td>32879</td>\n",
       "      <td>3</td>\n",
       "      <td>181310</td>\n",
       "      <td>0</td>\n",
       "      <td>120534</td>\n",
       "      <td>57499</td>\n",
       "      <td>...</td>\n",
       "      <td>26789</td>\n",
       "      <td>8181</td>\n",
       "      <td>290784</td>\n",
       "      <td>742197</td>\n",
       "      <td>802277</td>\n",
       "      <td>328741</td>\n",
       "      <td>3528</td>\n",
       "      <td>370345</td>\n",
       "      <td>6056</td>\n",
       "      <td>0</td>\n",
       "    </tr>\n",
       "    <tr>\n",
       "      <th>3</th>\n",
       "      <td>12</td>\n",
       "      <td>Oct 2018</td>\n",
       "      <td>16056</td>\n",
       "      <td>23262</td>\n",
       "      <td>31719</td>\n",
       "      <td>4</td>\n",
       "      <td>177391</td>\n",
       "      <td>0</td>\n",
       "      <td>122182</td>\n",
       "      <td>53025</td>\n",
       "      <td>...</td>\n",
       "      <td>29000</td>\n",
       "      <td>7327</td>\n",
       "      <td>276661</td>\n",
       "      <td>713369</td>\n",
       "      <td>794920</td>\n",
       "      <td>339215</td>\n",
       "      <td>3166</td>\n",
       "      <td>361991</td>\n",
       "      <td>6628</td>\n",
       "      <td>0</td>\n",
       "    </tr>\n",
       "    <tr>\n",
       "      <th>4</th>\n",
       "      <td>13</td>\n",
       "      <td>Sep 2018</td>\n",
       "      <td>19319</td>\n",
       "      <td>25908</td>\n",
       "      <td>30617</td>\n",
       "      <td>3</td>\n",
       "      <td>199819</td>\n",
       "      <td>0</td>\n",
       "      <td>132668</td>\n",
       "      <td>57359</td>\n",
       "      <td>...</td>\n",
       "      <td>30555</td>\n",
       "      <td>8715</td>\n",
       "      <td>302174</td>\n",
       "      <td>782222</td>\n",
       "      <td>854461</td>\n",
       "      <td>351203</td>\n",
       "      <td>3461</td>\n",
       "      <td>389503</td>\n",
       "      <td>6491</td>\n",
       "      <td>0</td>\n",
       "    </tr>\n",
       "  </tbody>\n",
       "</table>\n",
       "<p>5 rows × 30 columns</p>\n",
       "</div>"
      ],
      "text/plain": [
       "   Unnamed: 0      Date   Audi    BMW  Mercedes Benz  Mitsubishi Fuso     FCA  \\\n",
       "0           9  Jan 2019  14253  18102          23721                0  136082   \n",
       "1          10  Dec 2018  22765  34357          36132                4  196520   \n",
       "2          11  Nov 2018  17082  28330          32879                3  181310   \n",
       "3          12  Oct 2018  16056  23262          31719                4  177391   \n",
       "4          13  Sep 2018  19319  25908          30617                3  199819   \n",
       "\n",
       "   General Motors  Honda Group  Hyundai                 ...                  \\\n",
       "0               0       106139    42020                 ...                   \n",
       "1               0       155115    65721                 ...                   \n",
       "2               0       120534    57499                 ...                   \n",
       "3               0       122182    53025                 ...                   \n",
       "4               0       132668    57359                 ...                   \n",
       "\n",
       "   Volkswagen  Volvo  Imported  Light Trucks  Domestic    Cars  Mini  \\\n",
       "0       23074   5854    226484        468419    511241  252564  2457   \n",
       "1       32047   8826    336987        880440    938357  370718  2797   \n",
       "2       26789   8181    290784        742197    802277  328741  3528   \n",
       "3       29000   7327    276661        713369    794920  339215  3166   \n",
       "4       30555   8715    302174        782222    854461  351203  3461   \n",
       "\n",
       "   Light Vehicles  Medium Duty Trucks  Hybrid/Electric/Fuel Cell Vehicles  \n",
       "0          135396                   0                                   0  \n",
       "1          408603                6985                                   0  \n",
       "2          370345                6056                                   0  \n",
       "3          361991                6628                                   0  \n",
       "4          389503                6491                                   0  \n",
       "\n",
       "[5 rows x 30 columns]"
      ]
     },
     "execution_count": 11,
     "metadata": {},
     "output_type": "execute_result"
    }
   ],
   "source": [
    "feature_df.head()"
   ]
  },
  {
   "cell_type": "code",
   "execution_count": 12,
   "metadata": {},
   "outputs": [],
   "source": [
    "car_price.index = np.arange(230)"
   ]
  },
  {
   "cell_type": "code",
   "execution_count": 13,
   "metadata": {},
   "outputs": [],
   "source": [
    "car_price['Direction'] = car_price['Percent Change'].apply(lambda x: 0 if x<0 else 1)"
   ]
  },
  {
   "cell_type": "code",
   "execution_count": 14,
   "metadata": {},
   "outputs": [
    {
     "data": {
      "text/html": [
       "<div>\n",
       "<style scoped>\n",
       "    .dataframe tbody tr th:only-of-type {\n",
       "        vertical-align: middle;\n",
       "    }\n",
       "\n",
       "    .dataframe tbody tr th {\n",
       "        vertical-align: top;\n",
       "    }\n",
       "\n",
       "    .dataframe thead th {\n",
       "        text-align: right;\n",
       "    }\n",
       "</style>\n",
       "<table border=\"1\" class=\"dataframe\">\n",
       "  <thead>\n",
       "    <tr style=\"text-align: right;\">\n",
       "      <th></th>\n",
       "      <th>Date</th>\n",
       "      <th>Price</th>\n",
       "      <th>Change</th>\n",
       "      <th>Percent Change</th>\n",
       "      <th>Direction</th>\n",
       "    </tr>\n",
       "  </thead>\n",
       "  <tbody>\n",
       "    <tr>\n",
       "      <th>225</th>\n",
       "      <td>2000-05-31</td>\n",
       "      <td>17.47</td>\n",
       "      <td>-0.14</td>\n",
       "      <td>-0.0078</td>\n",
       "      <td>0</td>\n",
       "    </tr>\n",
       "    <tr>\n",
       "      <th>226</th>\n",
       "      <td>2000-04-30</td>\n",
       "      <td>17.61</td>\n",
       "      <td>-0.37</td>\n",
       "      <td>-0.0203</td>\n",
       "      <td>0</td>\n",
       "    </tr>\n",
       "    <tr>\n",
       "      <th>227</th>\n",
       "      <td>2000-03-31</td>\n",
       "      <td>17.98</td>\n",
       "      <td>-1.02</td>\n",
       "      <td>-0.0536</td>\n",
       "      <td>0</td>\n",
       "    </tr>\n",
       "    <tr>\n",
       "      <th>228</th>\n",
       "      <td>2000-02-29</td>\n",
       "      <td>18.99</td>\n",
       "      <td>0.70</td>\n",
       "      <td>0.0380</td>\n",
       "      <td>1</td>\n",
       "    </tr>\n",
       "    <tr>\n",
       "      <th>229</th>\n",
       "      <td>2000-01-31</td>\n",
       "      <td>18.30</td>\n",
       "      <td>0.40</td>\n",
       "      <td>0.0223</td>\n",
       "      <td>1</td>\n",
       "    </tr>\n",
       "  </tbody>\n",
       "</table>\n",
       "</div>"
      ],
      "text/plain": [
       "           Date  Price  Change  Percent Change  Direction\n",
       "225  2000-05-31  17.47   -0.14         -0.0078          0\n",
       "226  2000-04-30  17.61   -0.37         -0.0203          0\n",
       "227  2000-03-31  17.98   -1.02         -0.0536          0\n",
       "228  2000-02-29  18.99    0.70          0.0380          1\n",
       "229  2000-01-31  18.30    0.40          0.0223          1"
      ]
     },
     "execution_count": 14,
     "metadata": {},
     "output_type": "execute_result"
    }
   ],
   "source": [
    "car_price.tail()"
   ]
  },
  {
   "cell_type": "code",
   "execution_count": null,
   "metadata": {},
   "outputs": [],
   "source": []
  },
  {
   "cell_type": "code",
   "execution_count": 15,
   "metadata": {},
   "outputs": [
    {
     "data": {
      "text/plain": [
       "Index(['Unnamed: 0', 'Date', 'Audi', 'BMW', 'Mercedes Benz', 'Mitsubishi Fuso',\n",
       "       'FCA', 'General Motors', 'Honda Group', 'Hyundai', 'Isuzu',\n",
       "       'Jaguar Land Rover', 'Kia', 'Mazda', 'Mitsubishi', 'Nissan', 'Porsche',\n",
       "       'Subaru', 'Tesla', 'Toyota Group', 'Volkswagen', 'Volvo', 'Imported',\n",
       "       'Light Trucks', 'Domestic', 'Cars', 'Mini', 'Light Vehicles',\n",
       "       'Medium Duty Trucks', 'Hybrid/Electric/Fuel Cell Vehicles'],\n",
       "      dtype='object')"
      ]
     },
     "execution_count": 15,
     "metadata": {},
     "output_type": "execute_result"
    }
   ],
   "source": [
    "feature_df.columns"
   ]
  },
  {
   "cell_type": "code",
   "execution_count": 16,
   "metadata": {},
   "outputs": [],
   "source": [
    "full_df = car_price.iloc[0:-1,:].join(feature_df,how='right',lsuffix='_dep', rsuffix='_indep')\n",
    "full_df = full_df.drop(columns = 'Unnamed: 0')"
   ]
  },
  {
   "cell_type": "code",
   "execution_count": 17,
   "metadata": {},
   "outputs": [
    {
     "data": {
      "text/plain": [
       "Index(['Date_dep', 'Price', 'Change', 'Percent Change', 'Direction',\n",
       "       'Date_indep', 'Audi', 'BMW', 'Mercedes Benz', 'Mitsubishi Fuso', 'FCA',\n",
       "       'General Motors', 'Honda Group', 'Hyundai', 'Isuzu',\n",
       "       'Jaguar Land Rover', 'Kia', 'Mazda', 'Mitsubishi', 'Nissan', 'Porsche',\n",
       "       'Subaru', 'Tesla', 'Toyota Group', 'Volkswagen', 'Volvo', 'Imported',\n",
       "       'Light Trucks', 'Domestic', 'Cars', 'Mini', 'Light Vehicles',\n",
       "       'Medium Duty Trucks', 'Hybrid/Electric/Fuel Cell Vehicles'],\n",
       "      dtype='object')"
      ]
     },
     "execution_count": 17,
     "metadata": {},
     "output_type": "execute_result"
    }
   ],
   "source": [
    "full_df.columns"
   ]
  },
  {
   "cell_type": "markdown",
   "metadata": {},
   "source": [
    "### finish cleaning data\n",
    "### start xgboost tree classification"
   ]
  },
  {
   "cell_type": "code",
   "execution_count": 18,
   "metadata": {},
   "outputs": [],
   "source": [
    "y = full_df['Direction']\n",
    "x = full_df[full_df.columns[6::]]"
   ]
  },
  {
   "cell_type": "code",
   "execution_count": 23,
   "metadata": {},
   "outputs": [],
   "source": [
    "from sklearn.preprocessing import StandardScaler\n",
    "import xgboost as xgb\n",
    "from sklearn.model_selection import train_test_split\n",
    "from sklearn.metrics import accuracy_score\n",
    "from sklearn.metrics import roc_curve,roc_auc_score\n",
    "import matplotlib.pyplot as plt\n",
    "%matplotlib inline"
   ]
  },
  {
   "cell_type": "code",
   "execution_count": 20,
   "metadata": {},
   "outputs": [],
   "source": [
    "scalar = StandardScaler()"
   ]
  },
  {
   "cell_type": "code",
   "execution_count": 21,
   "metadata": {},
   "outputs": [
    {
     "name": "stderr",
     "output_type": "stream",
     "text": [
      "/anaconda3/lib/python3.7/site-packages/sklearn/preprocessing/data.py:625: DataConversionWarning: Data with input dtype int64 were all converted to float64 by StandardScaler.\n",
      "  return self.partial_fit(X, y)\n"
     ]
    },
    {
     "data": {
      "text/plain": [
       "StandardScaler(copy=True, with_mean=True, with_std=True)"
      ]
     },
     "execution_count": 21,
     "metadata": {},
     "output_type": "execute_result"
    }
   ],
   "source": [
    "scalar.fit(x)"
   ]
  },
  {
   "cell_type": "code",
   "execution_count": 24,
   "metadata": {},
   "outputs": [
    {
     "name": "stderr",
     "output_type": "stream",
     "text": [
      "/anaconda3/lib/python3.7/site-packages/ipykernel_launcher.py:3: DataConversionWarning: Data with input dtype int64 were all converted to float64 by StandardScaler.\n",
      "  This is separate from the ipykernel package so we can avoid doing imports until\n",
      "/anaconda3/lib/python3.7/site-packages/ipykernel_launcher.py:4: DataConversionWarning: Data with input dtype int64 were all converted to float64 by StandardScaler.\n",
      "  after removing the cwd from sys.path.\n"
     ]
    }
   ],
   "source": [
    "gbm = xgb.XGBClassifier(objective = 'binary:logistic',gamma = 10, max_depth = 3)\n",
    "X_train, X_test, y_train, y_test = train_test_split(x, y, test_size=0.2, random_state=0)\n",
    "X_train = scalar.transform(X_train)\n",
    "X_test = scalar.transform(X_test)"
   ]
  },
  {
   "cell_type": "code",
   "execution_count": 44,
   "metadata": {},
   "outputs": [
    {
     "data": {
      "text/plain": [
       "0.5434782608695652"
      ]
     },
     "execution_count": 44,
     "metadata": {},
     "output_type": "execute_result"
    }
   ],
   "source": [
    "gbm.fit(X_train,y_train)\n",
    "y_predict = gbm.predict(X_test)\n",
    "accuracy_score(y_predict, y_test)"
   ]
  },
  {
   "cell_type": "markdown",
   "metadata": {},
   "source": [
    "## starts simple logistic regression"
   ]
  },
  {
   "cell_type": "code",
   "execution_count": 25,
   "metadata": {},
   "outputs": [],
   "source": [
    "from sklearn.datasets import load_iris\n",
    "from sklearn.linear_model import LogisticRegression\n"
   ]
  },
  {
   "cell_type": "code",
   "execution_count": 27,
   "metadata": {},
   "outputs": [
    {
     "data": {
      "text/plain": [
       "LogisticRegression(C=1.0, class_weight=None, dual=False, fit_intercept=True,\n",
       "          intercept_scaling=1, max_iter=100, multi_class='multinomial',\n",
       "          n_jobs=None, penalty='l2', random_state=0, solver='lbfgs',\n",
       "          tol=0.0001, verbose=0, warm_start=False)"
      ]
     },
     "execution_count": 27,
     "metadata": {},
     "output_type": "execute_result"
    }
   ],
   "source": [
    "\n",
    "clf = LogisticRegression(random_state=0, solver='lbfgs', multi_class='multinomial').fit(X_train, y_train)\n",
    "clf"
   ]
  },
  {
   "cell_type": "code",
   "execution_count": 30,
   "metadata": {},
   "outputs": [
    {
     "data": {
      "text/plain": [
       "0.45652173913043476"
      ]
     },
     "execution_count": 30,
     "metadata": {},
     "output_type": "execute_result"
    }
   ],
   "source": [
    "y_predict = clf.predict(X_test)\n",
    "y_predict_proba = clf.predict_proba(X_test)\n",
    "accuracy_score(y_predict, y_test)\n"
   ]
  },
  {
   "cell_type": "code",
   "execution_count": 41,
   "metadata": {},
   "outputs": [],
   "source": [
    "fpr, tpr, _ = roc_curve(y_test,  y_predict_proba[:,1])\n",
    "auc = roc_auc_score(y_test, y_predict_proba[:,1])"
   ]
  },
  {
   "cell_type": "code",
   "execution_count": 42,
   "metadata": {},
   "outputs": [
    {
     "data": {
      "image/png": "[encoded data removed]",
      "text/plain": [
       "<Figure size 432x288 with 1 Axes>"
      ]
     },
     "metadata": {
      "needs_background": "light"
     },
     "output_type": "display_data"
    }
   ],
   "source": [
    "plt.plot(fpr,tpr,label=\"ROC AUC= \"+str(auc))\n",
    "plt.plot([0, 1], [0, 1], color='navy', linestyle='--')\n",
    "plt.legend(loc=4)\n",
    "plt.show()"
   ]
  },
  {
   "cell_type": "markdown",
   "metadata": {},
   "source": [
    "start PCA for logistic regression"
   ]
  },
  {
   "cell_type": "code",
   "execution_count": 43,
   "metadata": {},
   "outputs": [],
   "source": [
    "from sklearn.decomposition import PCA"
   ]
  },
  {
   "cell_type": "code",
   "execution_count": 102,
   "metadata": {},
   "outputs": [
    {
     "data": {
      "text/plain": [
       "PCA(copy=True, iterated_power='auto', n_components=2, random_state=None,\n",
       "  svd_solver='auto', tol=0.0, whiten=False)"
      ]
     },
     "execution_count": 102,
     "metadata": {},
     "output_type": "execute_result"
    }
   ],
   "source": [
    "# can change components here to improve AUC\n",
    "pca = PCA(n_components=2) \n",
    "pca.fit(x)\n",
    "# pca.components_  "
   ]
  },
  {
   "cell_type": "code",
   "execution_count": 103,
   "metadata": {},
   "outputs": [],
   "source": [
    "new_df = pca.transform(x)"
   ]
  },
  {
   "cell_type": "code",
   "execution_count": 104,
   "metadata": {},
   "outputs": [],
   "source": [
    "scalar = StandardScaler()\n",
    "scalar.fit(new_df)\n",
    "X_train, X_test, y_train, y_test = train_test_split(new_df, y, test_size=0.2, random_state=0)\n",
    "X_train = scalar.transform(X_train)\n",
    "X_test = scalar.transform(X_test)"
   ]
  },
  {
   "cell_type": "code",
   "execution_count": 105,
   "metadata": {},
   "outputs": [
    {
     "data": {
      "image/png": "[encoded data removed]",
      "text/plain": [
       "<Figure size 432x288 with 1 Axes>"
      ]
     },
     "metadata": {
      "needs_background": "light"
     },
     "output_type": "display_data"
    }
   ],
   "source": [
    "clf = LogisticRegression(random_state=0, solver='lbfgs', multi_class='multinomial').fit(X_train, y_train)\n",
    "y_predict = clf.predict(X_test)\n",
    "y_predict_proba = clf.predict_proba(X_test)\n",
    "accuracy_score(y_predict, y_test)\n",
    "fpr, tpr, _ = roc_curve(y_test,  y_predict_proba[:,1])\n",
    "auc = roc_auc_score(y_test, y_predict_proba[:,1])\n",
    "plt.plot(fpr,tpr,label=\"ROC AUC= \"+str(auc))\n",
    "plt.plot([0, 1], [0, 1], color='navy', linestyle='--')\n",
    "plt.legend(loc=4)\n",
    "plt.show()"
   ]
  },
  {
   "cell_type": "code",
   "execution_count": null,
   "metadata": {},
   "outputs": [],
   "source": []
  },
  {
   "cell_type": "code",
   "execution_count": null,
   "metadata": {},
   "outputs": [],
   "source": []
  }
 ],
 "metadata": {
  "kernelspec": {
   "display_name": "Python 3",
   "language": "python",
   "name": "python3"
  },
  "language_info": {
   "codemirror_mode": {
    "name": "ipython",
    "version": 3
   },
   "file_extension": ".py",
   "mimetype": "text/x-python",
   "name": "python",
   "nbconvert_exporter": "python",
   "pygments_lexer": "ipython3",
   "version": "3.7.1"
  }
 },
 "nbformat": 4,
 "nbformat_minor": 2
}
